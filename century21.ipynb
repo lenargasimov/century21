{
 "cells": [
  {
   "cell_type": "code",
   "execution_count": 10,
   "id": "9e356bf2",
   "metadata": {},
   "outputs": [
    {
     "data": {
      "text/plain": [
       "'$725,000'"
      ]
     },
     "execution_count": 10,
     "metadata": {},
     "output_type": "execute_result"
    }
   ],
   "source": [
    "import requests\n",
    "import pandas\n",
    "from bs4 import BeautifulSoup\n",
    "\n",
    "\n",
    "request_data = requests.get(\"https://pythonizing.github.io/data/real-estate/rock-springs-wy/LCWYROCKSPRINGS/\")\n",
    "request_content = request_data.content\n",
    "\n",
    "soup = BeautifulSoup(request_content,\"html.parser\")\n",
    "\n",
    "all = soup.find_all(\"div\", {\"class\":\"propertyRow\"})\n",
    "\n",
    "all[0].find(\"h4\", {\"class\":\"propPrice\"}).text.replace(\"\\n\", \"\").strip()"
   ]
  },
  {
   "cell_type": "code",
   "execution_count": 11,
   "id": "7072ab38",
   "metadata": {},
   "outputs": [],
   "source": [
    "data_list = []\n",
    "\n",
    "for item in all:\n",
    "    data_dict = {}\n",
    "    data_dict[\"Address\"] = item.find_all(\"span\", {\"class\",\"propAddressCollapse\"})[0].text\n",
    "    data_dict[\"Locality\"] = item.find_all(\"span\", {\"class\",\"propAddressCollapse\"})[1].text\n",
    "    data_dict[\"Price\"] = item.find(\"h4\", {\"class\":\"propPrice\"}).text.replace(\"\\n\", \"\").strip()\n",
    "\n",
    "    try:\n",
    "        data_dict[\"Beds\"] = item.find(\"span\", {\"class\",\"infoBed\"}).find(\"b\").text\n",
    "    except:\n",
    "        data_dict[\"Beds\"] = None\n",
    "    \n",
    "    try:\n",
    "        data_dict[\"Area\"] = item.find(\"span\", {\"class\",\"infoSqFt\"}).find(\"b\").text\n",
    "    except:\n",
    "        data_dict[\"Area\"] = None\n",
    "    \n",
    "    try:\n",
    "        data_dict[\"Full Baths\"] = item.find(\"span\", {\"class\",\"infoValueFullBath\"}).find(\"b\").text\n",
    "    except:\n",
    "        data_dict[\"Full Baths\"] = None\n",
    "    \n",
    "    try:\n",
    "        data_dict[\"Half Baths\"] = item.find(\"span\", {\"class\",\"infoValueHalfBath\"}).find(\"b\").text\n",
    "    except:\n",
    "        data_dict[\"Half Baths\"] = None\n",
    "        \n",
    "    \n",
    "    for column_group in item.find_all(\"div\", {\"class\":\"columnGroup\"}):\n",
    "        for feature_group, feature_name in zip(column_group.find_all(\"span\", {\"class\":\"featureGroup\"}), column_group.find_all(\"span\", {\"class\":\"featureName\"})):\n",
    "            if \"Lot Size\" in feature_group.text:\n",
    "                data_dict[\"Lot Size\"] = feature_name.text\n",
    "                \n",
    "    data_list.append(data_dict)"
   ]
  },
  {
   "cell_type": "code",
   "execution_count": 13,
   "id": "901d62d9",
   "metadata": {},
   "outputs": [],
   "source": [
    "df = pandas.DataFrame(data_list)"
   ]
  },
  {
   "cell_type": "code",
   "execution_count": 15,
   "id": "0a319cfe",
   "metadata": {},
   "outputs": [],
   "source": [
    "df.to_csv(\"output.csv\")"
   ]
  },
  {
   "cell_type": "code",
   "execution_count": null,
   "id": "46185662",
   "metadata": {},
   "outputs": [],
   "source": [
    "    "
   ]
  }
 ],
 "metadata": {
  "kernelspec": {
   "display_name": "Python 3 (ipykernel)",
   "language": "python",
   "name": "python3"
  },
  "language_info": {
   "codemirror_mode": {
    "name": "ipython",
    "version": 3
   },
   "file_extension": ".py",
   "mimetype": "text/x-python",
   "name": "python",
   "nbconvert_exporter": "python",
   "pygments_lexer": "ipython3",
   "version": "3.9.7"
  }
 },
 "nbformat": 4,
 "nbformat_minor": 5
}
